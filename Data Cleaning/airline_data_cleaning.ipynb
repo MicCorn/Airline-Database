{
 "cells": [
  {
   "cell_type": "code",
   "execution_count": 2,
   "metadata": {},
   "outputs": [],
   "source": [
    "import pandas as pd\n",
    "import numpy as np"
   ]
  },
  {
   "cell_type": "code",
   "execution_count": 13,
   "metadata": {},
   "outputs": [
    {
     "data": {
      "text/html": [
       "<div>\n",
       "<style scoped>\n",
       "    .dataframe tbody tr th:only-of-type {\n",
       "        vertical-align: middle;\n",
       "    }\n",
       "\n",
       "    .dataframe tbody tr th {\n",
       "        vertical-align: top;\n",
       "    }\n",
       "\n",
       "    .dataframe thead th {\n",
       "        text-align: right;\n",
       "    }\n",
       "</style>\n",
       "<table border=\"1\" class=\"dataframe\">\n",
       "  <thead>\n",
       "    <tr style=\"text-align: right;\">\n",
       "      <th></th>\n",
       "      <th>web-scraper-order</th>\n",
       "      <th>web-scraper-start-url</th>\n",
       "      <th>IATA</th>\n",
       "      <th>ICAO</th>\n",
       "      <th>Airline</th>\n",
       "      <th>Call sign</th>\n",
       "      <th>Country_Region</th>\n",
       "      <th>Comments</th>\n",
       "    </tr>\n",
       "  </thead>\n",
       "  <tbody>\n",
       "    <tr>\n",
       "      <th>0</th>\n",
       "      <td>1733246192-1</td>\n",
       "      <td>https://en.wikipedia.org/wiki/List_of_airline_...</td>\n",
       "      <td>PR</td>\n",
       "      <td>BOI</td>\n",
       "      <td>2GO</td>\n",
       "      <td>ABAIR</td>\n",
       "      <td>Philippines</td>\n",
       "      <td>NaN</td>\n",
       "    </tr>\n",
       "    <tr>\n",
       "      <th>1</th>\n",
       "      <td>1733246192-2</td>\n",
       "      <td>https://en.wikipedia.org/wiki/List_of_airline_...</td>\n",
       "      <td>NaN</td>\n",
       "      <td>EVY</td>\n",
       "      <td>34 Squadron, Royal Australian Air Force</td>\n",
       "      <td>Multiple</td>\n",
       "      <td>NaN</td>\n",
       "      <td>NaN</td>\n",
       "    </tr>\n",
       "    <tr>\n",
       "      <th>2</th>\n",
       "      <td>1733246192-3</td>\n",
       "      <td>https://en.wikipedia.org/wiki/List_of_airline_...</td>\n",
       "      <td>NaN</td>\n",
       "      <td>GNL</td>\n",
       "      <td>135 Airways</td>\n",
       "      <td>GENERAL</td>\n",
       "      <td>United States</td>\n",
       "      <td>NaN</td>\n",
       "    </tr>\n",
       "    <tr>\n",
       "      <th>3</th>\n",
       "      <td>1733246192-4</td>\n",
       "      <td>https://en.wikipedia.org/wiki/List_of_airline_...</td>\n",
       "      <td>1A</td>\n",
       "      <td>NaN</td>\n",
       "      <td>Amadeus IT Group S.A.</td>\n",
       "      <td>NaN</td>\n",
       "      <td>Global</td>\n",
       "      <td>GDS and airline hosting system (CRS/PSS)</td>\n",
       "    </tr>\n",
       "    <tr>\n",
       "      <th>4</th>\n",
       "      <td>1733246192-5</td>\n",
       "      <td>https://en.wikipedia.org/wiki/List_of_airline_...</td>\n",
       "      <td>1B</td>\n",
       "      <td>NaN</td>\n",
       "      <td>Sabre travel network Asia-Pacific (ex-Abacus)</td>\n",
       "      <td>NaN</td>\n",
       "      <td>APAC</td>\n",
       "      <td>Regional distribution</td>\n",
       "    </tr>\n",
       "  </tbody>\n",
       "</table>\n",
       "</div>"
      ],
      "text/plain": [
       "  web-scraper-order                              web-scraper-start-url IATA  \\\n",
       "0      1733246192-1  https://en.wikipedia.org/wiki/List_of_airline_...   PR   \n",
       "1      1733246192-2  https://en.wikipedia.org/wiki/List_of_airline_...  NaN   \n",
       "2      1733246192-3  https://en.wikipedia.org/wiki/List_of_airline_...  NaN   \n",
       "3      1733246192-4  https://en.wikipedia.org/wiki/List_of_airline_...   1A   \n",
       "4      1733246192-5  https://en.wikipedia.org/wiki/List_of_airline_...   1B   \n",
       "\n",
       "  ICAO                                        Airline Call sign  \\\n",
       "0  BOI                                            2GO     ABAIR   \n",
       "1  EVY        34 Squadron, Royal Australian Air Force  Multiple   \n",
       "2  GNL                                    135 Airways   GENERAL   \n",
       "3  NaN                          Amadeus IT Group S.A.       NaN   \n",
       "4  NaN  Sabre travel network Asia-Pacific (ex-Abacus)       NaN   \n",
       "\n",
       "  Country_Region                                  Comments  \n",
       "0    Philippines                                       NaN  \n",
       "1            NaN                                       NaN  \n",
       "2  United States                                       NaN  \n",
       "3         Global  GDS and airline hosting system (CRS/PSS)  \n",
       "4           APAC                     Regional distribution  "
      ]
     },
     "execution_count": 13,
     "metadata": {},
     "output_type": "execute_result"
    }
   ],
   "source": [
    "codes = pd.read_csv('Airline_Code.csv')\n",
    "codes.head()"
   ]
  },
  {
   "cell_type": "code",
   "execution_count": 25,
   "metadata": {},
   "outputs": [
    {
     "data": {
      "text/plain": [
       "758"
      ]
     },
     "execution_count": 25,
     "metadata": {},
     "output_type": "execute_result"
    }
   ],
   "source": [
    "codes.__len__()"
   ]
  },
  {
   "cell_type": "code",
   "execution_count": 22,
   "metadata": {},
   "outputs": [
    {
     "data": {
      "text/html": [
       "<div>\n",
       "<style scoped>\n",
       "    .dataframe tbody tr th:only-of-type {\n",
       "        vertical-align: middle;\n",
       "    }\n",
       "\n",
       "    .dataframe tbody tr th {\n",
       "        vertical-align: top;\n",
       "    }\n",
       "\n",
       "    .dataframe thead th {\n",
       "        text-align: right;\n",
       "    }\n",
       "</style>\n",
       "<table border=\"1\" class=\"dataframe\">\n",
       "  <thead>\n",
       "    <tr style=\"text-align: right;\">\n",
       "      <th></th>\n",
       "      <th>web-scraper-order</th>\n",
       "      <th>web-scraper-start-url</th>\n",
       "      <th>IATA</th>\n",
       "      <th>ICAO</th>\n",
       "      <th>Airline</th>\n",
       "      <th>Call sign</th>\n",
       "      <th>Country_Region</th>\n",
       "      <th>Comments</th>\n",
       "    </tr>\n",
       "  </thead>\n",
       "  <tbody>\n",
       "    <tr>\n",
       "      <th>1501</th>\n",
       "      <td>1733246192-1502</td>\n",
       "      <td>https://en.wikipedia.org/wiki/List_of_airline_...</td>\n",
       "      <td>AA</td>\n",
       "      <td>AAL</td>\n",
       "      <td>American Airlines</td>\n",
       "      <td>AMERICAN</td>\n",
       "      <td>United States</td>\n",
       "      <td>NaN</td>\n",
       "    </tr>\n",
       "    <tr>\n",
       "      <th>412</th>\n",
       "      <td>1733246192-413</td>\n",
       "      <td>https://en.wikipedia.org/wiki/List_of_airline_...</td>\n",
       "      <td>AC</td>\n",
       "      <td>ACA</td>\n",
       "      <td>Air Canada</td>\n",
       "      <td>AIR CANADA</td>\n",
       "      <td>Canada</td>\n",
       "      <td>NaN</td>\n",
       "    </tr>\n",
       "    <tr>\n",
       "      <th>1538</th>\n",
       "      <td>1733246192-1539</td>\n",
       "      <td>https://en.wikipedia.org/wiki/List_of_airline_...</td>\n",
       "      <td>AD</td>\n",
       "      <td>AZU</td>\n",
       "      <td>Azul Linhas Aéreas Brasileiras</td>\n",
       "      <td>Azul</td>\n",
       "      <td>Brazil</td>\n",
       "      <td>NaN</td>\n",
       "    </tr>\n",
       "    <tr>\n",
       "      <th>3937</th>\n",
       "      <td>1733246192-3938</td>\n",
       "      <td>https://en.wikipedia.org/wiki/List_of_airline_...</td>\n",
       "      <td>AE</td>\n",
       "      <td>MDA</td>\n",
       "      <td>Mandarin Airlines</td>\n",
       "      <td>MANDARIN</td>\n",
       "      <td>Taiwan</td>\n",
       "      <td>NaN</td>\n",
       "    </tr>\n",
       "    <tr>\n",
       "      <th>285</th>\n",
       "      <td>1733246192-286</td>\n",
       "      <td>https://en.wikipedia.org/wiki/List_of_airline_...</td>\n",
       "      <td>AF</td>\n",
       "      <td>AFR</td>\n",
       "      <td>Air France</td>\n",
       "      <td>AIRFRANS</td>\n",
       "      <td>France</td>\n",
       "      <td>NaN</td>\n",
       "    </tr>\n",
       "    <tr>\n",
       "      <th>1334</th>\n",
       "      <td>1733246192-1335</td>\n",
       "      <td>https://en.wikipedia.org/wiki/List_of_airline_...</td>\n",
       "      <td>AG</td>\n",
       "      <td>ARU</td>\n",
       "      <td>Aruba Airlines</td>\n",
       "      <td>ARUBA</td>\n",
       "      <td>Aruba</td>\n",
       "      <td>NaN</td>\n",
       "    </tr>\n",
       "    <tr>\n",
       "      <th>1511</th>\n",
       "      <td>1733246192-1512</td>\n",
       "      <td>https://en.wikipedia.org/wiki/List_of_airline_...</td>\n",
       "      <td>AG</td>\n",
       "      <td>ABR</td>\n",
       "      <td>ASL Airlines Ireland</td>\n",
       "      <td>CONTRACT</td>\n",
       "      <td>Ireland</td>\n",
       "      <td>Former IATA Code: AG; former names: Hunting Ai...</td>\n",
       "    </tr>\n",
       "    <tr>\n",
       "      <th>969</th>\n",
       "      <td>1733246192-970</td>\n",
       "      <td>https://en.wikipedia.org/wiki/List_of_airline_...</td>\n",
       "      <td>AH</td>\n",
       "      <td>DAH</td>\n",
       "      <td>Air Algérie</td>\n",
       "      <td>AIR ALGERIE</td>\n",
       "      <td>Algeria</td>\n",
       "      <td>NaN</td>\n",
       "    </tr>\n",
       "    <tr>\n",
       "      <th>776</th>\n",
       "      <td>1733246192-777</td>\n",
       "      <td>https://en.wikipedia.org/wiki/List_of_airline_...</td>\n",
       "      <td>AK</td>\n",
       "      <td>AXM</td>\n",
       "      <td>AirAsia</td>\n",
       "      <td>RED CAP</td>\n",
       "      <td>Malaysia</td>\n",
       "      <td>ICAO code no longer allocated</td>\n",
       "    </tr>\n",
       "    <tr>\n",
       "      <th>5291</th>\n",
       "      <td>1733246192-5292</td>\n",
       "      <td>https://en.wikipedia.org/wiki/List_of_airline_...</td>\n",
       "      <td>AL</td>\n",
       "      <td>SYX</td>\n",
       "      <td>Skywalk Airlines</td>\n",
       "      <td>SKYWAY-EX</td>\n",
       "      <td>United States</td>\n",
       "      <td>(Astral Aviation)</td>\n",
       "    </tr>\n",
       "  </tbody>\n",
       "</table>\n",
       "</div>"
      ],
      "text/plain": [
       "     web-scraper-order                              web-scraper-start-url  \\\n",
       "1501   1733246192-1502  https://en.wikipedia.org/wiki/List_of_airline_...   \n",
       "412     1733246192-413  https://en.wikipedia.org/wiki/List_of_airline_...   \n",
       "1538   1733246192-1539  https://en.wikipedia.org/wiki/List_of_airline_...   \n",
       "3937   1733246192-3938  https://en.wikipedia.org/wiki/List_of_airline_...   \n",
       "285     1733246192-286  https://en.wikipedia.org/wiki/List_of_airline_...   \n",
       "1334   1733246192-1335  https://en.wikipedia.org/wiki/List_of_airline_...   \n",
       "1511   1733246192-1512  https://en.wikipedia.org/wiki/List_of_airline_...   \n",
       "969     1733246192-970  https://en.wikipedia.org/wiki/List_of_airline_...   \n",
       "776     1733246192-777  https://en.wikipedia.org/wiki/List_of_airline_...   \n",
       "5291   1733246192-5292  https://en.wikipedia.org/wiki/List_of_airline_...   \n",
       "\n",
       "     IATA ICAO                         Airline    Call sign Country_Region  \\\n",
       "1501   AA  AAL               American Airlines     AMERICAN  United States   \n",
       "412    AC  ACA                      Air Canada   AIR CANADA         Canada   \n",
       "1538   AD  AZU  Azul Linhas Aéreas Brasileiras         Azul         Brazil   \n",
       "3937   AE  MDA               Mandarin Airlines     MANDARIN         Taiwan   \n",
       "285    AF  AFR                      Air France     AIRFRANS         France   \n",
       "1334   AG  ARU                  Aruba Airlines        ARUBA          Aruba   \n",
       "1511   AG  ABR            ASL Airlines Ireland     CONTRACT        Ireland   \n",
       "969    AH  DAH                     Air Algérie  AIR ALGERIE        Algeria   \n",
       "776    AK  AXM                         AirAsia      RED CAP       Malaysia   \n",
       "5291   AL  SYX                Skywalk Airlines    SKYWAY-EX  United States   \n",
       "\n",
       "                                               Comments  \n",
       "1501                                                NaN  \n",
       "412                                                 NaN  \n",
       "1538                                                NaN  \n",
       "3937                                                NaN  \n",
       "285                                                 NaN  \n",
       "1334                                                NaN  \n",
       "1511  Former IATA Code: AG; former names: Hunting Ai...  \n",
       "969                                                 NaN  \n",
       "776                       ICAO code no longer allocated  \n",
       "5291                                  (Astral Aviation)  "
      ]
     },
     "execution_count": 22,
     "metadata": {},
     "output_type": "execute_result"
    }
   ],
   "source": [
    "codes = codes.dropna(subset=['IATA'])\n",
    "codes = codes[~codes['Comments'].str.contains('defunct', na=False)]\n",
    "codes = codes[~codes['Comments'].str.contains('Defunct', na=False)]\n",
    "codes = codes[~codes['Airline'].str.contains('Cargo', na=False)]\n",
    "codes = codes[~codes['Airline'].str.contains('Limited', na=False)]\n",
    "codes = codes[~codes['Airline'].str.contains('Contractors', na=False)]\n",
    "codes = codes[~codes['Airline'].str.contains('Logistic', na=False)]\n",
    "codes = codes[~codes['IATA'].str.contains(r'\\d')]\n",
    "codes = codes.sort_values(by='IATA', ascending=True)\n",
    "codes.head(10)"
   ]
  },
  {
   "cell_type": "code",
   "execution_count": 31,
   "metadata": {},
   "outputs": [
    {
     "name": "stdout",
     "output_type": "stream",
     "text": [
      "Number of duplicate IATA codes: 0\n"
     ]
    }
   ],
   "source": [
    "duplicate_iata_count = codes['IATA'].duplicated().sum()\n",
    "print(f\"Number of duplicate IATA codes: {duplicate_iata_count}\")"
   ]
  },
  {
   "cell_type": "code",
   "execution_count": 30,
   "metadata": {},
   "outputs": [
    {
     "name": "stdout",
     "output_type": "stream",
     "text": [
      "Empty DataFrame\n",
      "Columns: [web-scraper-order, web-scraper-start-url, IATA, ICAO, Airline, Call sign, Country_Region, Comments]\n",
      "Index: []\n"
     ]
    }
   ],
   "source": [
    "duplicate_iata = codes[codes.duplicated(subset=['IATA'], keep=False)]\n",
    "print(duplicate_iata)"
   ]
  },
  {
   "cell_type": "code",
   "execution_count": 29,
   "metadata": {},
   "outputs": [
    {
     "data": {
      "application/vnd.jupyter.widget-view+json": {
       "model_id": "e411432deb984d92aa615f2306b29900",
       "version_major": 2,
       "version_minor": 0
      },
      "text/plain": [
       "VBox(children=(Dropdown(description='IATA AG:', options=(('Aruba Airlines', 1334), ('ASL Airlines Ireland', 15…"
      ]
     },
     "metadata": {},
     "output_type": "display_data"
    },
    {
     "name": "stdout",
     "output_type": "stream",
     "text": [
      "Conflicting entries have been resolved and unnecessary airlines have been removed.\n"
     ]
    }
   ],
   "source": [
    "import ipywidgets as widgets\n",
    "from IPython.display import display\n",
    "\n",
    "# Function to create selection widgets for each conflicting IATA code\n",
    "def create_selection_widgets(conflicting_iata_codes, duplicate_iata):\n",
    "    selection_widgets = {}\n",
    "    for iata in conflicting_iata_codes:\n",
    "        conflicting_entries = duplicate_iata[duplicate_iata['IATA'] == iata]\n",
    "        options = [(entry['Airline'], entry.name) for _, entry in conflicting_entries.iterrows()]\n",
    "        dropdown = widgets.Dropdown(\n",
    "            options=options,\n",
    "            value=options[0][1],  # Select the first airline by default\n",
    "            description=f'IATA {iata}:'\n",
    "        )\n",
    "        selection_widgets[iata] = dropdown\n",
    "    return selection_widgets\n",
    "\n",
    "# Function to display the selection widgets and commit button\n",
    "def display_selection_widgets(selection_widgets):\n",
    "    items = [widget for widget in selection_widgets.values()]\n",
    "    commit_button = widgets.Button(description='Commit Changes', button_style='success')\n",
    "    display(widgets.VBox(items + [commit_button]))\n",
    "    return commit_button\n",
    "\n",
    "# Function to handle the commit button click event\n",
    "def on_commit_button_clicked(b):\n",
    "    for iata, dropdown in selection_widgets.items():\n",
    "        selected_entry = dropdown.value\n",
    "        codes.drop(codes[(codes['IATA'] == iata) & (codes.index != selected_entry)].index, inplace=True)\n",
    "    print(\"Conflicting entries have been resolved and unnecessary airlines have been removed.\")\n",
    "\n",
    "# Create and display the selection widgets\n",
    "selection_widgets = create_selection_widgets(conflicting_iata_codes, duplicate_iata)\n",
    "commit_button = display_selection_widgets(selection_widgets)\n",
    "\n",
    "# Attach the click event handler to the commit button\n",
    "commit_button.on_click(on_commit_button_clicked)"
   ]
  },
  {
   "cell_type": "code",
   "execution_count": null,
   "metadata": {
    "vscode": {
     "languageId": "javascript"
    }
   },
   "outputs": [
    {
     "data": {
      "text/html": [
       "<div>\n",
       "<style scoped>\n",
       "    .dataframe tbody tr th:only-of-type {\n",
       "        vertical-align: middle;\n",
       "    }\n",
       "\n",
       "    .dataframe tbody tr th {\n",
       "        vertical-align: top;\n",
       "    }\n",
       "\n",
       "    .dataframe thead th {\n",
       "        text-align: right;\n",
       "    }\n",
       "</style>\n",
       "<table border=\"1\" class=\"dataframe\">\n",
       "  <thead>\n",
       "    <tr style=\"text-align: right;\">\n",
       "      <th></th>\n",
       "      <th>IATA</th>\n",
       "      <th>Airline</th>\n",
       "      <th>Country_Region</th>\n",
       "    </tr>\n",
       "  </thead>\n",
       "  <tbody>\n",
       "    <tr>\n",
       "      <th>1501</th>\n",
       "      <td>AA</td>\n",
       "      <td>American Airlines</td>\n",
       "      <td>United States</td>\n",
       "    </tr>\n",
       "    <tr>\n",
       "      <th>412</th>\n",
       "      <td>AC</td>\n",
       "      <td>Air Canada</td>\n",
       "      <td>Canada</td>\n",
       "    </tr>\n",
       "    <tr>\n",
       "      <th>1538</th>\n",
       "      <td>AD</td>\n",
       "      <td>Azul Linhas Aéreas Brasileiras</td>\n",
       "      <td>Brazil</td>\n",
       "    </tr>\n",
       "    <tr>\n",
       "      <th>3937</th>\n",
       "      <td>AE</td>\n",
       "      <td>Mandarin Airlines</td>\n",
       "      <td>Taiwan</td>\n",
       "    </tr>\n",
       "    <tr>\n",
       "      <th>285</th>\n",
       "      <td>AF</td>\n",
       "      <td>Air France</td>\n",
       "      <td>France</td>\n",
       "    </tr>\n",
       "  </tbody>\n",
       "</table>\n",
       "</div>"
      ],
      "text/plain": [
       "     IATA                         Airline Country_Region\n",
       "1501   AA               American Airlines  United States\n",
       "412    AC                      Air Canada         Canada\n",
       "1538   AD  Azul Linhas Aéreas Brasileiras         Brazil\n",
       "3937   AE               Mandarin Airlines         Taiwan\n",
       "285    AF                      Air France         France"
      ]
     },
     "execution_count": 39,
     "metadata": {},
     "output_type": "execute_result"
    }
   ],
   "source": [
    "codes = codes.drop(columns=['web-scraper-order', 'web-scraper-start-url', 'ICAO', 'Call sign', 'Comments'])\n",
    "codes = codes.dropna(subset=['Country_Region'])\n",
    "codes['IATA'] = codes['IATA'].str.slice(0, 2)\n",
    "codes.head()"
   ]
  },
  {
   "cell_type": "code",
   "execution_count": 40,
   "metadata": {},
   "outputs": [],
   "source": [
    "# Export the cleaned data to a new CSV file\n",
    "codes.to_csv('Airline_Code_Cleaned.csv', index=False)"
   ]
  },
  {
   "cell_type": "code",
   "execution_count": 4,
   "metadata": {},
   "outputs": [],
   "source": [
    "# Import the cleaned CSV file\n",
    "cleaned_codes = pd.read_csv('Airline_Code_Cleaned.csv')\n",
    "\n",
    "# Format each row for SQL entry\n",
    "formatted_rows = []\n",
    "for index, row in cleaned_codes.iterrows():\n",
    "    formatted_row = f\"INSERT INTO airline VALUES('{row['IATA']}', '{row['Airline']}', '{row['Country_Region']}')\"\n",
    "    formatted_rows.append(formatted_row)\n",
    "\n",
    "# Join all formatted rows into a single string\n",
    "formatted_text = ';\\n'.join(formatted_rows)\n",
    "\n",
    "# Export the formatted text to a plaintext file\n",
    "with open('Airline_Code_SQL_Entries.txt', 'w') as file:\n",
    "    file.write(formatted_text)"
   ]
  },
  {
   "cell_type": "markdown",
   "metadata": {},
   "source": [
    "ENG MFR MDL,STREET,STREET2,CITY,STATE,ZIP CODE,REGION,COUNTY,LAST ACTION DATE,CERT ISSUE DATE,CERTIFICATION,TYPE AIRCRAFT,TYPE ENGINE,STATUS CODE,MODE S CODE,FRACT OWNER,AIR WORTH DATE,OTHER NAMES(1),OTHER NAMES(2),OTHER NAMES(3),OTHER NAMES(4),OTHER NAMES(5),EXPIRATION DATE,UNIQUE ID,KIT MFR, KIT MODEL,MODE S CODE HEX,"
   ]
  }
 ],
 "metadata": {
  "kernelspec": {
   "display_name": "base",
   "language": "python",
   "name": "python3"
  },
  "language_info": {
   "codemirror_mode": {
    "name": "ipython",
    "version": 3
   },
   "file_extension": ".py",
   "mimetype": "text/x-python",
   "name": "python",
   "nbconvert_exporter": "python",
   "pygments_lexer": "ipython3",
   "version": "3.10.9"
  }
 },
 "nbformat": 4,
 "nbformat_minor": 2
}
